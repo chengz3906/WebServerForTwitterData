{
 "cells": [
  {
   "cell_type": "code",
   "execution_count": 64,
   "metadata": {},
   "outputs": [],
   "source": [
    "import numpy as np"
   ]
  },
  {
   "cell_type": "code",
   "execution_count": 65,
   "metadata": {},
   "outputs": [
    {
     "data": {
      "text/plain": [
       "25"
      ]
     },
     "execution_count": 65,
     "metadata": {},
     "output_type": "execute_result"
    }
   ],
   "source": [
    "len(qr)"
   ]
  },
  {
   "cell_type": "code",
   "execution_count": 146,
   "metadata": {},
   "outputs": [],
   "source": [
    "i = 24\n",
    "j = 24\n",
    "\n",
    "coords = []\n",
    "\n",
    "qr = []\n",
    "with open('v2.txt', 'r') as f:\n",
    "    for line in f:\n",
    "        qr.append(list(line.strip('\\n')))\n",
    "\n",
    "while(j >= 1):\n",
    "    # zig-zag up\n",
    "    while(i >= 0 and qr[i][j] != 'b'):\n",
    "        # skip patterns\n",
    "        while (qr[i][j] != 'x'):\n",
    "            i -= 1\n",
    "            \n",
    "        coords.append((i, j))\n",
    "        j = j - 1\n",
    "        coords.append((i,j ))\n",
    "        i = i - 1\n",
    "        j = j + 1\n",
    "        \n",
    "    i = i + 1\n",
    "    j = j - 2\n",
    "    if (qr[i][j] != 'x'):\n",
    "        j = j - 1\n",
    "    \n",
    "    # zig-zag down\n",
    "    while(i < 25 and qr[i][j] != 'b'):\n",
    "        while (qr[i][j] != 'x'):\n",
    "            i += 1\n",
    "            \n",
    "        coords.append((i,j ))\n",
    "        j = j - 1\n",
    "        coords.append((i,j))\n",
    "        i = i + 1\n",
    "        j = j + 1\n",
    "        \n",
    "    \n",
    "    i = i - 1\n",
    "    j = j - 2\n",
    "    \n",
    "    if (j == 8):\n",
    "        i = 16"
   ]
  },
  {
   "cell_type": "code",
   "execution_count": 148,
   "metadata": {},
   "outputs": [],
   "source": [
    "k = 0\n",
    "for r, c in coords:\n",
    "    qr[r][c] = k\n",
    "    k += 1"
   ]
  },
  {
   "cell_type": "code",
   "execution_count": 149,
   "metadata": {},
   "outputs": [
    {
     "name": "stdout",
     "output_type": "stream",
     "text": [
      "1   1   1   1   1   1   1   b   b   251 250 249 248 155 154 153 152 b   1   1   1   1   1   1   1  \n",
      "1   0   0   0   0   0   1   b   b   253 252 247 246 157 156 151 150 b   1   0   0   0   0   0   1  \n",
      "1   0   1   1   1   0   1   b   b   255 254 245 244 159 158 149 148 b   1   0   1   1   1   0   1  \n",
      "1   0   1   1   1   0   1   b   b   257 256 243 242 161 160 147 146 b   1   0   1   1   1   0   1  \n",
      "1   0   1   1   1   0   1   b   b   259 258 241 240 163 162 145 144 b   1   0   1   1   1   0   1  \n",
      "1   0   0   0   0   0   1   b   b   261 260 239 238 165 164 143 142 b   1   0   0   0   0   0   1  \n",
      "1   1   1   1   1   1   1   b   1   0   1   0   1   0   1   0   1   b   1   1   1   1   1   1   1  \n",
      "b   b   b   b   b   b   b   b   b   263 262 237 236 167 166 141 140 b   b   b   b   b   b   b   b  \n",
      "353 352 351 350 317 316 1   315 314 265 264 235 234 169 168 139 138 93  92  91  90  35  34  33  32 \n",
      "355 354 349 348 319 318 0   313 312 267 266 233 232 171 170 137 136 95  94  89  88  37  36  31  30 \n",
      "357 356 347 346 321 320 1   311 310 269 268 231 230 173 172 135 134 97  96  87  86  39  38  29  28 \n",
      "359 358 345 344 323 322 0   309 308 271 270 229 228 175 174 133 132 99  98  85  84  41  40  27  26 \n",
      "361 360 343 342 325 324 1   307 306 273 272 227 226 177 176 131 130 101 100 83  82  43  42  25  24 \n",
      "363 362 341 340 327 326 0   305 304 275 274 225 224 179 178 129 128 103 102 81  80  45  44  23  22 \n",
      "365 364 339 338 329 328 1   303 302 277 276 223 222 181 180 127 126 105 104 79  78  47  46  21  20 \n",
      "367 366 337 336 331 330 0   301 300 279 278 221 220 183 182 125 124 107 106 77  76  49  48  19  18 \n",
      "369 368 335 334 333 332 1   299 298 281 280 219 218 185 184 x   1   1   1   1   1   51  50  17  16 \n",
      "b   b   b   b   b   b   b   b   b   283 282 217 216 187 186 x   1   0   0   0   1   53  52  15  14 \n",
      "1   1   1   1   1   1   1   b   b   285 284 215 214 189 188 x   1   0   1   0   1   55  54  13  12 \n",
      "1   0   0   0   0   0   1   b   b   287 286 213 212 191 190 x   1   0   0   0   1   57  56  11  10 \n",
      "1   0   1   1   1   0   1   b   b   289 288 211 210 193 192 x   1   1   1   1   1   59  58  9   8  \n",
      "1   0   1   1   1   0   1   b   b   291 290 209 208 195 194 123 122 109 108 75  74  61  60  7   6  \n",
      "1   0   1   1   1   0   1   b   b   293 292 207 206 197 196 121 120 111 110 73  72  63  62  5   4  \n",
      "1   0   0   0   0   0   1   b   b   295 294 205 204 199 198 119 118 113 112 71  70  65  64  3   2  \n",
      "1   1   1   1   1   1   1   b   b   297 296 203 202 201 200 117 116 115 114 69  68  67  66  1   0  \n"
     ]
    }
   ],
   "source": [
    "for r in qr:\n",
    "    print(' '.join([str(s).ljust(3) for s in r]))"
   ]
  },
  {
   "cell_type": "code",
   "execution_count": 152,
   "metadata": {},
   "outputs": [],
   "source": [
    "with open('zigzag_v2.txt', 'w') as f:\n",
    "    for r, c in coords:\n",
    "        f.write('%s,%s\\n' % (r, c))"
   ]
  },
  {
   "cell_type": "code",
   "execution_count": 164,
   "metadata": {},
   "outputs": [
    {
     "name": "stdout",
     "output_type": "stream",
     "text": [
      "a\n",
      "12\n",
      "8\n"
     ]
    }
   ],
   "source": [
    "i = 20\n",
    "j = 20\n",
    "\n",
    "coords = []\n",
    "\n",
    "qr = []\n",
    "with open('v1.txt', 'r') as f:\n",
    "    for line in f:\n",
    "        qr.append(list(line.strip('\\n')))\n",
    "\n",
    "while(j >= 1):\n",
    "    # zig-zag up\n",
    "    while(i >= 0 and qr[i][j] != 'b'):\n",
    "        # skip patterns\n",
    "        while (qr[i][j] != 'x'):\n",
    "            i -= 1\n",
    "            \n",
    "        coords.append((i, j))\n",
    "        j = j - 1\n",
    "        coords.append((i,j ))\n",
    "        i = i - 1\n",
    "        j = j + 1\n",
    "        \n",
    "    i = i + 1\n",
    "    j = j - 2\n",
    "    if (qr[i][j] != 'x'):\n",
    "        j = j - 1\n",
    "    \n",
    "    # zig-zag down\n",
    "    while(i < 21 and qr[i][j] != 'b'):\n",
    "        while (qr[i][j] != 'x'):\n",
    "            i += 1\n",
    "            \n",
    "        coords.append((i,j ))\n",
    "        j = j - 1\n",
    "        coords.append((i,j))\n",
    "        i = i + 1\n",
    "        j = j + 1\n",
    "        \n",
    "    \n",
    "    i = i - 1\n",
    "    j = j - 2\n",
    "    \n",
    "    if (j == 8):\n",
    "        print('a')\n",
    "        i = 12\n",
    "        print(i)\n",
    "        print(j)"
   ]
  },
  {
   "cell_type": "code",
   "execution_count": 166,
   "metadata": {},
   "outputs": [],
   "source": [
    "k = 0\n",
    "for r, c in coords:\n",
    "    qr[r][c] = k\n",
    "    k += 1"
   ]
  },
  {
   "cell_type": "code",
   "execution_count": 167,
   "metadata": {},
   "outputs": [
    {
     "name": "stdout",
     "output_type": "stream",
     "text": [
      "1   1   1   1   1   1   1   b   b   145 144 143 142 b   1   1   1   1   1   1   1  \n",
      "1   0   0   0   0   0   1   b   b   147 146 141 140 b   1   0   0   0   0   0   1  \n",
      "1   0   1   1   1   0   1   b   b   149 148 139 138 b   1   0   1   1   1   0   1  \n",
      "1   0   1   1   1   0   1   b   b   151 150 137 136 b   1   0   1   1   1   0   1  \n",
      "1   0   1   1   1   0   1   b   b   153 152 135 134 b   1   0   1   1   1   0   1  \n",
      "1   0   0   0   0   0   1   b   b   155 154 133 132 b   1   0   0   0   0   0   1  \n",
      "1   1   1   1   1   1   1   b   1   0   1   0   1   b   1   1   1   1   1   1   1  \n",
      "b   b   b   b   b   b   b   b   b   157 156 131 130 b   b   b   b   b   b   b   b  \n",
      "215 214 213 212 195 194 1   193 192 159 158 129 128 79  78  77  76  27  26  25  24 \n",
      "217 216 211 210 197 196 0   191 190 161 160 127 126 81  80  75  74  29  28  23  22 \n",
      "219 218 209 208 199 198 1   189 188 163 162 125 124 83  82  73  72  31  30  21  20 \n",
      "221 220 207 206 201 200 0   187 186 165 164 123 122 85  84  71  70  33  32  19  18 \n",
      "223 222 205 204 203 202 1   185 184 167 166 121 120 87  86  69  68  35  34  17  16 \n",
      "b   b   b   b   b   b   b   b   b   169 168 119 118 89  88  67  66  37  36  15  14 \n",
      "1   1   1   1   1   1   1   b   b   171 170 117 116 91  90  65  64  39  38  13  12 \n",
      "1   0   0   0   0   0   1   b   b   173 172 115 114 93  92  63  62  41  40  11  10 \n",
      "1   0   1   1   1   0   1   b   b   175 174 113 112 95  94  61  60  43  42  9   8  \n",
      "1   0   1   1   1   0   1   b   b   177 176 111 110 97  96  59  58  45  44  7   6  \n",
      "1   0   1   1   1   0   1   b   b   179 178 109 108 99  98  57  56  47  46  5   4  \n",
      "1   0   0   0   0   0   1   b   b   181 180 107 106 101 100 55  54  49  48  3   2  \n",
      "1   1   1   1   1   1   1   b   b   183 182 105 104 103 102 53  52  51  50  1   0  \n"
     ]
    }
   ],
   "source": [
    "for r in qr:\n",
    "    print(' '.join([str(s).ljust(3) for s in r]))"
   ]
  },
  {
   "cell_type": "code",
   "execution_count": 168,
   "metadata": {},
   "outputs": [],
   "source": [
    "with open('zigzag_v1.txt', 'w') as f:\n",
    "    for r, c in coords:\n",
    "        f.write('%s,%s\\n' % (r, c))"
   ]
  }
 ],
 "metadata": {
  "kernelspec": {
   "display_name": "Python 3",
   "language": "python",
   "name": "python3"
  },
  "language_info": {
   "codemirror_mode": {
    "name": "ipython",
    "version": 3
   },
   "file_extension": ".py",
   "mimetype": "text/x-python",
   "name": "python",
   "nbconvert_exporter": "python",
   "pygments_lexer": "ipython3",
   "version": "3.7.0"
  }
 },
 "nbformat": 4,
 "nbformat_minor": 2
}
